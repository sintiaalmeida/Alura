{
  "nbformat": 4,
  "nbformat_minor": 0,
  "metadata": {
    "colab": {
      "provenance": [],
      "authorship_tag": "ABX9TyPiimhjy1IsXWPdDQ/qHNYN",
      "include_colab_link": true
    },
    "kernelspec": {
      "name": "python3",
      "display_name": "Python 3"
    },
    "language_info": {
      "name": "python"
    }
  },
  "cells": [
    {
      "cell_type": "markdown",
      "metadata": {
        "id": "view-in-github",
        "colab_type": "text"
      },
      "source": [
        "<a href=\"https://colab.research.google.com/github/sintiaalmeida/Alura/blob/main/Slogan_da_Alura.ipynb\" target=\"_parent\"><img src=\"https://colab.research.google.com/assets/colab-badge.svg\" alt=\"Open In Colab\"/></a>"
      ]
    },
    {
      "cell_type": "code",
      "execution_count": null,
      "metadata": {
        "id": "gAJPfjyEAHGR"
      },
      "outputs": [],
      "source": []
    },
    {
      "cell_type": "markdown",
      "source": [
        "## Slogan da Alura\n",
        "\n",
        "### Cursos de Tecnologia e Negócios Digitais"
      ],
      "metadata": {
        "id": "HzbG0afBAI4_"
      }
    },
    {
      "cell_type": "code",
      "source": [
        "frase_alura = [' Digitais', 'e ', 'Negócios ', 'de ', 'Tecnologia ', 'Cursos ']"
      ],
      "metadata": {
        "id": "Tn0jEko0ALX3"
      },
      "execution_count": 1,
      "outputs": []
    },
    {
      "cell_type": "code",
      "source": [
        "frase_alura[-1] + frase_alura[-3] + frase_alura[-2] + frase_alura[-5] + frase_alura[-6] + frase_alura[-4]"
      ],
      "metadata": {
        "colab": {
          "base_uri": "https://localhost:8080/",
          "height": 35
        },
        "id": "9l5M2wORAiY3",
        "outputId": "7662c397-c71e-4c32-cd0f-2816bcaaf48e"
      },
      "execution_count": 6,
      "outputs": [
        {
          "output_type": "execute_result",
          "data": {
            "text/plain": [
              "'Cursos de Tecnologia e  DigitaisNegócios '"
            ],
            "application/vnd.google.colaboratory.intrinsic+json": {
              "type": "string"
            }
          },
          "metadata": {},
          "execution_count": 6
        }
      ]
    },
    {
      "cell_type": "code",
      "source": [
        "frase_alura[-1] + frase_alura[4] + frase_alura[5] + frase_alura[2] + frase_alura[3] + frase_alura[1]"
      ],
      "metadata": {
        "colab": {
          "base_uri": "https://localhost:8080/",
          "height": 35
        },
        "id": "VQhP4glPAoeO",
        "outputId": "430b73cc-d61d-413d-be7b-3afa8d978501"
      },
      "execution_count": 7,
      "outputs": [
        {
          "output_type": "execute_result",
          "data": {
            "text/plain": [
              "'Cursos Tecnologia Cursos Negócios de e '"
            ],
            "application/vnd.google.colaboratory.intrinsic+json": {
              "type": "string"
            }
          },
          "metadata": {},
          "execution_count": 7
        }
      ]
    },
    {
      "cell_type": "code",
      "source": [
        "frase_alura[-1] + frase_alura[3] + frase_alura[-2] + frase_alura[1] + frase_alura[2] + frase_alura[0]"
      ],
      "metadata": {
        "colab": {
          "base_uri": "https://localhost:8080/",
          "height": 35
        },
        "id": "hRFuKxa2BW-l",
        "outputId": "8d814c2c-c138-455c-889b-93654119d43f"
      },
      "execution_count": 9,
      "outputs": [
        {
          "output_type": "execute_result",
          "data": {
            "text/plain": [
              "'Cursos de Tecnologia e Negócios  Digitais'"
            ],
            "application/vnd.google.colaboratory.intrinsic+json": {
              "type": "string"
            }
          },
          "metadata": {},
          "execution_count": 9
        }
      ]
    },
    {
      "cell_type": "code",
      "source": [
        "frase_alura[5] + frase_alura[3] + frase_alura[4] + frase_alura[1] + frase_alura[2] + frase_alura[1]"
      ],
      "metadata": {
        "colab": {
          "base_uri": "https://localhost:8080/",
          "height": 35
        },
        "id": "rFvTX0lcBg_d",
        "outputId": "85c46bdf-6e83-403f-f6f2-d447d3a16016"
      },
      "execution_count": 10,
      "outputs": [
        {
          "output_type": "execute_result",
          "data": {
            "text/plain": [
              "'Cursos de Tecnologia e Negócios e '"
            ],
            "application/vnd.google.colaboratory.intrinsic+json": {
              "type": "string"
            }
          },
          "metadata": {},
          "execution_count": 10
        }
      ]
    },
    {
      "cell_type": "code",
      "source": [],
      "metadata": {
        "id": "x2zsKavcB6oN"
      },
      "execution_count": null,
      "outputs": []
    }
  ]
}
