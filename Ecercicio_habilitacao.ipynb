{
  "nbformat": 4,
  "nbformat_minor": 0,
  "metadata": {
    "colab": {
      "provenance": [],
      "authorship_tag": "ABX9TyMq20aNvLmVP8hOeqfxMdD4",
      "include_colab_link": true
    },
    "kernelspec": {
      "name": "python3",
      "display_name": "Python 3"
    },
    "language_info": {
      "name": "python"
    }
  },
  "cells": [
    {
      "cell_type": "markdown",
      "metadata": {
        "id": "view-in-github",
        "colab_type": "text"
      },
      "source": [
        "<a href=\"https://colab.research.google.com/github/sintiaalmeida/Alura/blob/main/Ecercicio_habilitacao.ipynb\" target=\"_parent\"><img src=\"https://colab.research.google.com/assets/colab-badge.svg\" alt=\"Open In Colab\"/></a>"
      ]
    },
    {
      "cell_type": "code",
      "execution_count": null,
      "metadata": {
        "id": "PanTQoGm4Ikm"
      },
      "outputs": [],
      "source": []
    },
    {
      "cell_type": "markdown",
      "source": [
        "## Função Habilitação"
      ],
      "metadata": {
        "id": "29skimYe4JQs"
      }
    },
    {
      "cell_type": "code",
      "source": [
        "def habilitacao():\n",
        "  idade = input(\"Qual a sua idade? \")\n",
        "  idade = int (idade)\n",
        "  if idade >= 18:\n",
        "    print('Pode tirar a habilitação')\n",
        "  else:\n",
        "    tempo = 18 - idade\n",
        "    print(f\"Calma... espere {tempo} ano(s) para tirar habilitação\")"
      ],
      "metadata": {
        "id": "DCxVbbKH4NGE"
      },
      "execution_count": 2,
      "outputs": []
    },
    {
      "cell_type": "code",
      "source": [
        "habilitacao()"
      ],
      "metadata": {
        "colab": {
          "base_uri": "https://localhost:8080/"
        },
        "id": "7AEIYrHT4R0r",
        "outputId": "89e07b0c-e88d-41a4-806b-a787d19c53f0"
      },
      "execution_count": 3,
      "outputs": [
        {
          "output_type": "stream",
          "name": "stdout",
          "text": [
            "Qual a sua idade? 15\n",
            "Calma... espere 3 ano(s) para tirar habilitação\n"
          ]
        }
      ]
    },
    {
      "cell_type": "code",
      "source": [],
      "metadata": {
        "id": "p_fpNQ8S5EEr"
      },
      "execution_count": null,
      "outputs": []
    }
  ]
}