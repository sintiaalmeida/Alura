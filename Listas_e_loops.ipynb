{
  "nbformat": 4,
  "nbformat_minor": 0,
  "metadata": {
    "colab": {
      "provenance": [],
      "authorship_tag": "ABX9TyOy0o5EC8l4+qlHnXXksxOn",
      "include_colab_link": true
    },
    "kernelspec": {
      "name": "python3",
      "display_name": "Python 3"
    },
    "language_info": {
      "name": "python"
    }
  },
  "cells": [
    {
      "cell_type": "markdown",
      "metadata": {
        "id": "view-in-github",
        "colab_type": "text"
      },
      "source": [
        "<a href=\"https://colab.research.google.com/github/sintiaalmeida/Alura/blob/main/Listas_e_loops.ipynb\" target=\"_parent\"><img src=\"https://colab.research.google.com/assets/colab-badge.svg\" alt=\"Open In Colab\"/></a>"
      ]
    },
    {
      "cell_type": "markdown",
      "source": [],
      "metadata": {
        "id": "j7qGQXUZ6RHn"
      }
    },
    {
      "cell_type": "markdown",
      "source": [
        "# Lista e Loops"
      ],
      "metadata": {
        "id": "C0i5IvI06S32"
      }
    },
    {
      "cell_type": "code",
      "source": [
        "idades = [50, 18, 12, 14]"
      ],
      "metadata": {
        "id": "D-K1VMSO8XbX"
      },
      "execution_count": 37,
      "outputs": []
    },
    {
      "cell_type": "code",
      "source": [
        "def verifica_se_pode_dirigir(idades):\n",
        "  for idade in idades:\n",
        "    if idade >=18:\n",
        "      print(f\"{idade} anos de idade, Tem permissão\")\n",
        "    else:\n",
        "      print(f\"{idade} anos de idade, Não tem permissão\")\n",
        "\n",
        "verifica_se_pode_dirigir(idades)"
      ],
      "metadata": {
        "colab": {
          "base_uri": "https://localhost:8080/"
        },
        "id": "ES4tQ9v5-7v_",
        "outputId": "6a306382-0b8f-43fa-8e6c-c4b72e9e0e5e"
      },
      "execution_count": 39,
      "outputs": [
        {
          "output_type": "stream",
          "name": "stdout",
          "text": [
            "50 anos de idade, Tem permissão\n",
            "18 anos de idade, Tem permissão\n",
            "12 anos de idade, Não tem permissão\n",
            "14 anos de idade, Não tem permissão\n"
          ]
        }
      ]
    },
    {
      "cell_type": "code",
      "source": [],
      "metadata": {
        "id": "lVs0Ou9V-KXG"
      },
      "execution_count": null,
      "outputs": []
    }
  ]
}